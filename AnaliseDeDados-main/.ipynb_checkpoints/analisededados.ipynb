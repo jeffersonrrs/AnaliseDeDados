{
 "cells": [
  {
   "cell_type": "markdown",
   "metadata": {},
   "source": [
    "# Análise eleitores de 16 a 24 anos do estado de São Paulo de 2020\n",
    "\n",
    "* Análise do grau de instrução dos eleitores \n",
    "\n",
    "## Alunos:\n",
    "Jeferson Henrique Mendonca Silva  e Jefferson Rodolfo Reis da Silva "
   ]
  },
  {
   "cell_type": "code",
   "execution_count": 7,
   "metadata": {},
   "outputs": [],
   "source": [
    "import numpy as np\n",
    "import pandas as pd\n",
    "import matplotlib.pyplot as plt\n",
    "import csv"
   ]
  },
  {
   "cell_type": "code",
   "execution_count": 2,
   "metadata": {},
   "outputs": [],
   "source": [
    "df = pd.read_csv('C:/Users/jefer/OneDrive/Área de Trabalho/Trabalho eleicao/trabalhoeleicao/Scripts/perfil_eleitorado_2020.csv',header=0,encoding='ISO-8859-1', usecols=[\"NM_MUNICIPIO\", \"DS_FAIXA_ETARIA\", \"DS_GRAU_ESCOLARIDADE\"], delimiter=';')"
   ]
  },
  {
   "cell_type": "code",
   "execution_count": 5,
   "metadata": {},
   "outputs": [
    {
     "data": {
      "text/html": [
       "<div>\n",
       "<style scoped>\n",
       "    .dataframe tbody tr th:only-of-type {\n",
       "        vertical-align: middle;\n",
       "    }\n",
       "\n",
       "    .dataframe tbody tr th {\n",
       "        vertical-align: top;\n",
       "    }\n",
       "\n",
       "    .dataframe thead th {\n",
       "        text-align: right;\n",
       "    }\n",
       "</style>\n",
       "<table border=\"1\" class=\"dataframe\">\n",
       "  <thead>\n",
       "    <tr style=\"text-align: right;\">\n",
       "      <th></th>\n",
       "      <th>NM_MUNICIPIO</th>\n",
       "      <th>DS_FAIXA_ETARIA</th>\n",
       "      <th>DS_GRAU_ESCOLARIDADE</th>\n",
       "    </tr>\n",
       "  </thead>\n",
       "  <tbody>\n",
       "    <tr>\n",
       "      <th>0</th>\n",
       "      <td>SÃO PAULO</td>\n",
       "      <td>90 a 94 anos</td>\n",
       "      <td>ENSINO MÉDIO COMPLETO</td>\n",
       "    </tr>\n",
       "    <tr>\n",
       "      <th>1</th>\n",
       "      <td>SÃO PAULO</td>\n",
       "      <td>90 a 94 anos</td>\n",
       "      <td>SUPERIOR INCOMPLETO</td>\n",
       "    </tr>\n",
       "    <tr>\n",
       "      <th>2</th>\n",
       "      <td>SÃO PAULO</td>\n",
       "      <td>90 a 94 anos</td>\n",
       "      <td>SUPERIOR COMPLETO</td>\n",
       "    </tr>\n",
       "    <tr>\n",
       "      <th>3</th>\n",
       "      <td>SÃO PAULO</td>\n",
       "      <td>95 a 99 anos</td>\n",
       "      <td>ANALFABETO</td>\n",
       "    </tr>\n",
       "    <tr>\n",
       "      <th>4</th>\n",
       "      <td>SÃO PAULO</td>\n",
       "      <td>95 a 99 anos</td>\n",
       "      <td>LÊ E ESCREVE</td>\n",
       "    </tr>\n",
       "    <tr>\n",
       "      <th>...</th>\n",
       "      <td>...</td>\n",
       "      <td>...</td>\n",
       "      <td>...</td>\n",
       "    </tr>\n",
       "    <tr>\n",
       "      <th>4248089</th>\n",
       "      <td>BURITIRAMA</td>\n",
       "      <td>45 a 49 anos</td>\n",
       "      <td>ANALFABETO</td>\n",
       "    </tr>\n",
       "    <tr>\n",
       "      <th>4248090</th>\n",
       "      <td>BURITIRAMA</td>\n",
       "      <td>45 a 49 anos</td>\n",
       "      <td>LÊ E ESCREVE</td>\n",
       "    </tr>\n",
       "    <tr>\n",
       "      <th>4248091</th>\n",
       "      <td>BURITIRAMA</td>\n",
       "      <td>45 a 49 anos</td>\n",
       "      <td>ENSINO FUNDAMENTAL INCOMPLETO</td>\n",
       "    </tr>\n",
       "    <tr>\n",
       "      <th>4248092</th>\n",
       "      <td>BURITIRAMA</td>\n",
       "      <td>45 a 49 anos</td>\n",
       "      <td>ENSINO FUNDAMENTAL COMPLETO</td>\n",
       "    </tr>\n",
       "    <tr>\n",
       "      <th>4248093</th>\n",
       "      <td>BURITIRAMA</td>\n",
       "      <td>45 a 49 anos</td>\n",
       "      <td>ENSINO MÉDIO INCOMPLETO</td>\n",
       "    </tr>\n",
       "  </tbody>\n",
       "</table>\n",
       "<p>4248094 rows × 3 columns</p>\n",
       "</div>"
      ],
      "text/plain": [
       "        NM_MUNICIPIO                 DS_FAIXA_ETARIA  \\\n",
       "0          SÃO PAULO  90 a 94 anos                     \n",
       "1          SÃO PAULO  90 a 94 anos                     \n",
       "2          SÃO PAULO  90 a 94 anos                     \n",
       "3          SÃO PAULO  95 a 99 anos                     \n",
       "4          SÃO PAULO  95 a 99 anos                     \n",
       "...              ...                             ...   \n",
       "4248089   BURITIRAMA  45 a 49 anos                     \n",
       "4248090   BURITIRAMA  45 a 49 anos                     \n",
       "4248091   BURITIRAMA  45 a 49 anos                     \n",
       "4248092   BURITIRAMA  45 a 49 anos                     \n",
       "4248093   BURITIRAMA  45 a 49 anos                     \n",
       "\n",
       "                  DS_GRAU_ESCOLARIDADE  \n",
       "0                ENSINO MÉDIO COMPLETO  \n",
       "1                  SUPERIOR INCOMPLETO  \n",
       "2                    SUPERIOR COMPLETO  \n",
       "3                           ANALFABETO  \n",
       "4                         LÊ E ESCREVE  \n",
       "...                                ...  \n",
       "4248089                     ANALFABETO  \n",
       "4248090                   LÊ E ESCREVE  \n",
       "4248091  ENSINO FUNDAMENTAL INCOMPLETO  \n",
       "4248092    ENSINO FUNDAMENTAL COMPLETO  \n",
       "4248093        ENSINO MÉDIO INCOMPLETO  \n",
       "\n",
       "[4248094 rows x 3 columns]"
      ]
     },
     "execution_count": 5,
     "metadata": {},
     "output_type": "execute_result"
    }
   ],
   "source": [
    "df.iloc[0:]"
   ]
  },
  {
   "cell_type": "code",
   "execution_count": 48,
   "metadata": {},
   "outputs": [
    {
     "data": {
      "image/png": "[encoded data removed]",
      "text/plain": [
       "<Figure size 432x288 with 1 Axes>"
      ]
     },
     "metadata": {
      "needs_background": "light"
     },
     "output_type": "display_data"
    }
   ],
   "source": [
    "df.groupby('DS_FAIXA_ETARIA').size().plot(kind='barh').set_title('Análise de Eleitores por idade', fontsize = 21)\n",
    "plt.xlabel('')\n",
    "plt.show()"
   ]
  },
  {
   "cell_type": "code",
   "execution_count": 90,
   "metadata": {},
   "outputs": [],
   "source": [
    "dados = df.loc[df['DS_FAIXA_ETARIA'] >= '16 anos']"
   ]
  },
  {
   "cell_type": "code",
   "execution_count": 94,
   "metadata": {},
   "outputs": [
    {
     "data": {
      "text/plain": [
       "<AxesSubplot:xlabel='DS_FAIXA_ETARIA'>"
      ]
     },
     "execution_count": 94,
     "metadata": {},
     "output_type": "execute_result"
    },
    {
     "data": {
      "image/png": "[encoded data removed]",
      "text/plain": [
       "<Figure size 432x288 with 1 Axes>"
      ]
     },
     "metadata": {
      "needs_background": "light"
     },
     "output_type": "display_data"
    }
   ],
   "source": [
    "dados.query('DS_FAIXA_ETARIA <= \"21 anos\"').groupby('DS_FAIXA_ETARIA').size().plot(kind='bar')"
   ]
  },
  {
   "cell_type": "code",
   "execution_count": null,
   "metadata": {},
   "outputs": [],
   "source": []
  }
 ],
 "metadata": {
  "kernelspec": {
   "display_name": "Python 3",
   "language": "python",
   "name": "python3"
  },
  "language_info": {
   "codemirror_mode": {
    "name": "ipython",
    "version": 3
   },
   "file_extension": ".py",
   "mimetype": "text/x-python",
   "name": "python",
   "nbconvert_exporter": "python",
   "pygments_lexer": "ipython3",
   "version": "3.8.5"
  }
 },
 "nbformat": 4,
 "nbformat_minor": 4
}
